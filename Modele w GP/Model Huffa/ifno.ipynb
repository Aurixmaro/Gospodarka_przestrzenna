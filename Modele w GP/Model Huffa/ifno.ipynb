{
 "cells": [
  {
   "cell_type": "code",
   "execution_count": null,
   "metadata": {},
   "outputs": [],
   "source": [
    "Cel – wyznaczenie zakresów rynkowych oraz potencjału rynkowego dwóch \n",
    "sklepów: Galerii Katowickiej oraz Silesia City w Katowicach \n",
    "\n",
    "• Dane: \n",
    "– mapa gęstości zaludnienia dla Katowic w siatce analitycznej 200mx200m,\n",
    "– mapa oporów dróg w siatce analitycznej 200mx200m,\n",
    "– mapa dzielnic Katowic,\n",
    "– mapa lokalizacji centrów handlowych na terenie miasta"
   ]
  }
 ],
 "metadata": {
  "kernelspec": {
   "display_name": "Python 3",
   "language": "python",
   "name": "python3"
  },
  "language_info": {
   "name": "python",
   "version": "3.10.2"
  },
  "orig_nbformat": 4
 },
 "nbformat": 4,
 "nbformat_minor": 2
}
