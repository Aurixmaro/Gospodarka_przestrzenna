{
 "cells": [
  {
   "cell_type": "code",
   "execution_count": null,
   "metadata": {},
   "outputs": [],
   "source": [
    "Skrócony opis zadania\n",
    "\n",
    "\n",
    "Znajdź najlepszy teren pod budowę nowych obszarów mieszkaniowych\n",
    "zakładając, że ta inwestycja:\n",
    "W1. musi znajdować się w obrębie granic administracyjnych Katowic.\n",
    "W2. jest możliwa jedynie na terenach rolnych.\n",
    "W3. powinna znajdować się w pobliżu istniejących punktów adresowych\n",
    "(im bliżej tym lepiej).\n",
    "W4. powinna powstawać w pobliżu istniejącej zabudowy zwartej i luźnej\n",
    "(im bliżej zabudowy tym lepiej).\n",
    "W5. powinna znajdować się najlepiej w strefie od 300 m do 1500 m\n",
    "od zbiorników wodnych, aby z jednej strony skorzystać z walorów ich\n",
    "sąsiedztwa, ale jednocześnie nie narażać się na podwyższony stan wód.\n",
    "W6. powinna znajdować się jak najbliżej istniejącej sieci dróg, przy czym\n",
    "najwyższa użyteczność jest do 100 m (im bliżej tym lepiej).\n",
    "W7. powinna znajdować się na terenie jak najbardziej płaskim (im bardziej\n",
    "stromy teren tym gorzej).\n",
    "W8. powinna powstać w dzielnicach już zaludnionych (im większa liczba\n",
    "ludności tym lepiej).\n",
    "W9. musi wynosić co najmniej 0,7 jednostek na mapie użyteczności terenu.\n",
    "\n",
    "Wykonaj dwie analizy: w jednej załóż, że wszystkie czynniki są tak samo\n",
    "istotne, natomiast w drugiej przyjmij wagi:\n",
    "w3 – 2; w4 – 1; w5 – 3; w6 – 3; w7 – 2; w8 – 1."
   ]
  }
 ],
 "metadata": {
  "language_info": {
   "name": "python"
  },
  "orig_nbformat": 4
 },
 "nbformat": 4,
 "nbformat_minor": 2
}
